{
 "cells": [
  {
   "cell_type": "markdown",
   "id": "a369bd15-0c4e-4e9d-b891-c6b8bdd57199",
   "metadata": {},
   "source": [
    "# My Jupyter Notebook on IBM Watson Studio"
   ]
  },
  {
   "cell_type": "markdown",
   "id": "d6088aa1-04a8-418e-831c-7b103d7c02d6",
   "metadata": {},
   "source": [
    "**Timur Dautov**  \n",
    "Senior Auditor in Deloitte"
   ]
  },
  {
   "cell_type": "markdown",
   "id": "9dbd6821-2fd7-4c38-83d3-c0dc8e1a6af1",
   "metadata": {},
   "source": [
    "*I'm interesting in Data Science because it's an opportunity to be useful in the future and help the positive development of our world in various areas*"
   ]
  },
  {
   "cell_type": "markdown",
   "id": "0b6b90b3-b7a3-4a15-ac14-88f8ee9c8d21",
   "metadata": {},
   "source": [
    "###My code is written to prove once again that two times two equals four!###"
   ]
  },
  {
   "cell_type": "code",
   "execution_count": 7,
   "id": "a548d954-f4eb-42e1-a4c2-cd36c4f3d397",
   "metadata": {},
   "outputs": [
    {
     "data": {
      "text/plain": [
       "4"
      ]
     },
     "execution_count": 7,
     "metadata": {},
     "output_type": "execute_result"
    }
   ],
   "source": [
    "2*2"
   ]
  },
  {
   "cell_type": "markdown",
   "id": "0e00b42c-7864-457f-8df8-f5fbed6f4e56",
   "metadata": {},
   "source": [
    "- Now or never  \n",
    "- Never or now, or maybe  \n",
    "1. Came  \n",
    "2. Saw  \n",
    "3. Conquered  or...\n",
    "***  \n",
    "__https://www.thecatball.com/blogs/news/inspirational-cat-posters__"
   ]
  }
 ],
 "metadata": {
  "kernelspec": {
   "display_name": "Python",
   "language": "python",
   "name": "conda-env-python-py"
  },
  "language_info": {
   "codemirror_mode": {
    "name": "ipython",
    "version": 3
   },
   "file_extension": ".py",
   "mimetype": "text/x-python",
   "name": "python",
   "nbconvert_exporter": "python",
   "pygments_lexer": "ipython3",
   "version": "3.7.12"
  }
 },
 "nbformat": 4,
 "nbformat_minor": 5
}
